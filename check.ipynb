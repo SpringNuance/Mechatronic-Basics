{
 "cells": [
  {
   "cell_type": "code",
   "execution_count": 2,
   "metadata": {},
   "outputs": [],
   "source": [
    "import os\n",
    "\n",
    "def find_large_files(start_path='.', size_limit_mb=100):\n",
    "    size_limit_bytes = size_limit_mb * 1024 * 1024  # Convert MB to bytes\n",
    "\n",
    "    for dirpath, dirnames, filenames in os.walk(start_path):\n",
    "        for filename in filenames:\n",
    "            file_path = os.path.join(dirpath, filename)\n",
    "            try:\n",
    "                if os.path.isfile(file_path):\n",
    "                    file_size = os.path.getsize(file_path)\n",
    "                    if file_size > size_limit_bytes:\n",
    "                        print(f\"{file_path} - {file_size / (1024 * 1024):.2f} MB\")\n",
    "            except Exception as e:\n",
    "                print(f\"Error accessing file {file_path}: {e}\")\n",
    "\n",
    "if __name__ == \"__main__\":\n",
    "    find_large_files()\n"
   ]
  }
 ],
 "metadata": {
  "kernelspec": {
   "display_name": "Python 3",
   "language": "python",
   "name": "python3"
  },
  "language_info": {
   "codemirror_mode": {
    "name": "ipython",
    "version": 3
   },
   "file_extension": ".py",
   "mimetype": "text/x-python",
   "name": "python",
   "nbconvert_exporter": "python",
   "pygments_lexer": "ipython3",
   "version": "3.12.3"
  }
 },
 "nbformat": 4,
 "nbformat_minor": 2
}
